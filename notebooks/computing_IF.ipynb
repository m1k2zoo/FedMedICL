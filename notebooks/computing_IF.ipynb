{
 "cells": [
  {
   "cell_type": "markdown",
   "id": "59961cba",
   "metadata": {},
   "source": [
    "# Analyzing Class Imbalance in Medical Imaging Datasets\n",
    "\n",
    "This notebook computes the Imbalance Factor (IF) across several medical imaging datasets. Class imbalance is a critical challenge in medical machine learning, where imbalanced data can lead to biased or inaccurate model predictions.\n",
    "\n",
    "In this notebook, we will:\n",
    "- Compute the imbalance factor for several datasets, including CheXCOVID, HAM10000, OL3I, and PAPILA. The Imbalance Factor measures the ratio of the most frequent to the least frequent class."
   ]
  },
  {
   "cell_type": "code",
   "execution_count": 1,
   "id": "bc216a43",
   "metadata": {},
   "outputs": [],
   "source": [
    "import json\n",
    "import os\n",
    "from os.path import dirname as up\n",
    "import pandas as pd\n",
    "import matplotlib.pyplot as plts"
   ]
  },
  {
   "cell_type": "code",
   "execution_count": 2,
   "id": "7f873340",
   "metadata": {},
   "outputs": [],
   "source": [
    "root_dir = up(os.getcwd())"
   ]
  },
  {
   "cell_type": "markdown",
   "id": "43901e4f",
   "metadata": {},
   "source": [
    "## CheXCOVID\n",
    "Here, we read data from multiple CSV files representing different client datasets, combining them into one DataFrame. This combined dataset represents the CheXCOVID dataset in the paper. We will use all the samples to compute the imbalance factor (IF), giving us insights into how class distribution varies across different samples or groups."
   ]
  },
  {
   "cell_type": "code",
   "execution_count": 3,
   "id": "dc660271",
   "metadata": {},
   "outputs": [
    {
     "data": {
      "text/html": [
       "<div>\n",
       "<style scoped>\n",
       "    .dataframe tbody tr th:only-of-type {\n",
       "        vertical-align: middle;\n",
       "    }\n",
       "\n",
       "    .dataframe tbody tr th {\n",
       "        vertical-align: top;\n",
       "    }\n",
       "\n",
       "    .dataframe thead th {\n",
       "        text-align: right;\n",
       "    }\n",
       "</style>\n",
       "<table border=\"1\" class=\"dataframe\">\n",
       "  <thead>\n",
       "    <tr style=\"text-align: right;\">\n",
       "      <th></th>\n",
       "      <th>Path</th>\n",
       "      <th>Sex</th>\n",
       "      <th>AP/PA</th>\n",
       "      <th>Target</th>\n",
       "      <th>Age_multi</th>\n",
       "      <th>Age_binary</th>\n",
       "      <th>PATIENT</th>\n",
       "      <th>PRIMARY_RACE</th>\n",
       "    </tr>\n",
       "  </thead>\n",
       "  <tbody>\n",
       "    <tr>\n",
       "      <th>0</th>\n",
       "      <td>images/2eadbbb367a0366d8c34350d083a83_jumbo.jpeg</td>\n",
       "      <td>M</td>\n",
       "      <td>AP</td>\n",
       "      <td>2</td>\n",
       "      <td>2</td>\n",
       "      <td>0</td>\n",
       "      <td>359</td>\n",
       "      <td>Unknown</td>\n",
       "    </tr>\n",
       "    <tr>\n",
       "      <th>1</th>\n",
       "      <td>CheXpert-v1.0/train/patient32487/study1/view2_...</td>\n",
       "      <td>M</td>\n",
       "      <td>NaN</td>\n",
       "      <td>1</td>\n",
       "      <td>1</td>\n",
       "      <td>0</td>\n",
       "      <td>patient32487</td>\n",
       "      <td>White</td>\n",
       "    </tr>\n",
       "    <tr>\n",
       "      <th>2</th>\n",
       "      <td>CheXpert-v1.0/train/patient11658/study2/view1_...</td>\n",
       "      <td>M</td>\n",
       "      <td>AP</td>\n",
       "      <td>0</td>\n",
       "      <td>3</td>\n",
       "      <td>1</td>\n",
       "      <td>patient11658</td>\n",
       "      <td>White, non-Hispanic</td>\n",
       "    </tr>\n",
       "    <tr>\n",
       "      <th>3</th>\n",
       "      <td>CheXpert-v1.0/train/patient57885/study1/view1_...</td>\n",
       "      <td>M</td>\n",
       "      <td>AP</td>\n",
       "      <td>1</td>\n",
       "      <td>2</td>\n",
       "      <td>0</td>\n",
       "      <td>patient57885</td>\n",
       "      <td>Asian</td>\n",
       "    </tr>\n",
       "    <tr>\n",
       "      <th>4</th>\n",
       "      <td>CheXpert-v1.0/train/patient09318/study2/view1_...</td>\n",
       "      <td>M</td>\n",
       "      <td>AP</td>\n",
       "      <td>1</td>\n",
       "      <td>1</td>\n",
       "      <td>0</td>\n",
       "      <td>patient09318</td>\n",
       "      <td>White</td>\n",
       "    </tr>\n",
       "  </tbody>\n",
       "</table>\n",
       "</div>"
      ],
      "text/plain": [
       "                                                Path Sex AP/PA  Target  \\\n",
       "0   images/2eadbbb367a0366d8c34350d083a83_jumbo.jpeg   M    AP       2   \n",
       "1  CheXpert-v1.0/train/patient32487/study1/view2_...   M   NaN       1   \n",
       "2  CheXpert-v1.0/train/patient11658/study2/view1_...   M    AP       0   \n",
       "3  CheXpert-v1.0/train/patient57885/study1/view1_...   M    AP       1   \n",
       "4  CheXpert-v1.0/train/patient09318/study2/view1_...   M    AP       1   \n",
       "\n",
       "   Age_multi  Age_binary       PATIENT         PRIMARY_RACE  \n",
       "0          2           0           359              Unknown  \n",
       "1          1           0  patient32487                White  \n",
       "2          3           1  patient11658  White, non-Hispanic  \n",
       "3          2           0  patient57885                Asian  \n",
       "4          1           0  patient09318                White  "
      ]
     },
     "execution_count": 3,
     "metadata": {},
     "output_type": "execute_result"
    }
   ],
   "source": [
    "path = root_dir + \"/outputs_final_results/fl_COVID_4T_10C_100R_5I_imbalanced_rehearsal_group_probability/data/clients\"\n",
    "\n",
    "# Initialize an empty DataFrame to store the combined data\n",
    "combined_df = pd.DataFrame()\n",
    "\n",
    "# Iterate through the files and append them to the combined DataFrame\n",
    "for i in range(10):\n",
    "    file_name = f\"train_client{i}_COVID.csv\"\n",
    "    file_path = os.path.join(path, file_name)\n",
    "    \n",
    "    # Read the file and append to the DataFrame\n",
    "    df = pd.read_csv(file_path)\n",
    "    combined_df = combined_df.append(df, ignore_index=True)\n",
    "\n",
    "combined_df.head()"
   ]
  },
  {
   "cell_type": "markdown",
   "id": "5512f722",
   "metadata": {},
   "source": [
    "### Calculating the Imbalance Factor (IF)\n",
    "In this step, we calculate the imbalance factor, which is the ratio of the number of instances in the most common class to the number of instances in the least common class. This is a common metric that helps identify the degree of label imbalance in a dataset."
   ]
  },
  {
   "cell_type": "code",
   "execution_count": 5,
   "id": "7916e4f4",
   "metadata": {},
   "outputs": [
    {
     "name": "stdout",
     "output_type": "stream",
     "text": [
      "3037\n",
      "282\n",
      "IF: 10.76950354609929\n"
     ]
    }
   ],
   "source": [
    "major_label_count = combined_df['Target'].value_counts()[0]\n",
    "print(major_label_count)\n",
    "\n",
    "minor_label_count = combined_df['Target'].value_counts()[2]\n",
    "print(minor_label_count)\n",
    "\n",
    "# Compute the imbalance factor (IF)\n",
    "IF = major_label_count / minor_label_count\n",
    "print(\"IF:\", IF)"
   ]
  },
  {
   "cell_type": "markdown",
   "id": "550f6fb0",
   "metadata": {},
   "source": [
    "## HAM10000\n",
    "Here, we will repeat the IF computations for the HAM10000 dataset. First, we load the dataset's metadata and then calculate the imbalance factor, illustrating the prevalence of class imbalance in this dataset."
   ]
  },
  {
   "cell_type": "code",
   "execution_count": 17,
   "id": "2878fc5c",
   "metadata": {},
   "outputs": [],
   "source": [
    "# Dataset Configuration Re-loading\n",
    "root_dir = up(os.getcwd())\n",
    "with open(root_dir + \"/configs/datasets.json\", 'r') as f:\n",
    "    config = json.load(f)"
   ]
  },
  {
   "cell_type": "code",
   "execution_count": 47,
   "id": "ce05094c",
   "metadata": {},
   "outputs": [],
   "source": [
    "dataset_name = \"HAM10000\"\n",
    "dataset_config = config[dataset_name]\n",
    "train_meta = pd.read_csv(dataset_config['train_meta_path']) \n",
    "val_meta = pd.read_csv(dataset_config['val_meta_path']) \n",
    "test_meta = pd.read_csv(dataset_config['test_meta_path']) "
   ]
  },
  {
   "cell_type": "code",
   "execution_count": 48,
   "id": "414b710c",
   "metadata": {},
   "outputs": [
    {
     "data": {
      "text/plain": [
       "array([5360,  879,  858,  414,  261,  103,   92])"
      ]
     },
     "execution_count": 48,
     "metadata": {},
     "output_type": "execute_result"
    }
   ],
   "source": [
    "train_meta['Target'].value_counts().values"
   ]
  },
  {
   "cell_type": "code",
   "execution_count": 49,
   "id": "0fa7d33e",
   "metadata": {},
   "outputs": [
    {
     "name": "stdout",
     "output_type": "stream",
     "text": [
      "5360\n",
      "92\n",
      "IF: 58.26086956521739\n"
     ]
    }
   ],
   "source": [
    "major_label_count = train_meta['Target'].value_counts().values[0]\n",
    "print(major_label_count)\n",
    "\n",
    "minor_label_count = train_meta['Target'].value_counts().values[-1]\n",
    "print(minor_label_count)\n",
    "\n",
    "IF = major_label_count / minor_label_count\n",
    "print(\"IF:\", IF)"
   ]
  },
  {
   "cell_type": "markdown",
   "id": "49f98d05",
   "metadata": {},
   "source": [
    "## OL3I\n",
    "Here, we will repeat the IF computations for the OL3I dataset."
   ]
  },
  {
   "cell_type": "code",
   "execution_count": 10,
   "id": "c6e20cf8",
   "metadata": {},
   "outputs": [],
   "source": [
    "dataset_name = \"OL3I\"\n",
    "dataset_config = config[dataset_name]\n",
    "train_meta = pd.read_csv(dataset_config['train_meta_path']) \n",
    "val_meta = pd.read_csv(dataset_config['val_meta_path']) \n",
    "test_meta = pd.read_csv(dataset_config['test_meta_path']) "
   ]
  },
  {
   "cell_type": "code",
   "execution_count": 11,
   "id": "66ee4dac",
   "metadata": {},
   "outputs": [
    {
     "data": {
      "text/plain": [
       "0    4961\n",
       "1     224\n",
       "Name: Target, dtype: int64"
      ]
     },
     "execution_count": 11,
     "metadata": {},
     "output_type": "execute_result"
    }
   ],
   "source": [
    "train_meta['Target'].value_counts()"
   ]
  },
  {
   "cell_type": "code",
   "execution_count": 12,
   "id": "49b8bd2a",
   "metadata": {},
   "outputs": [
    {
     "name": "stdout",
     "output_type": "stream",
     "text": [
      "4961\n",
      "224\n",
      "IF: 22.147321428571427\n"
     ]
    }
   ],
   "source": [
    "major_label_count = train_meta['Target'].value_counts()[0]\n",
    "print(major_label_count)\n",
    "\n",
    "minor_label_count = train_meta['Target'].value_counts()[1]\n",
    "print(minor_label_count)\n",
    "\n",
    "IF = major_label_count / minor_label_count\n",
    "print(\"IF:\", IF)"
   ]
  },
  {
   "cell_type": "markdown",
   "id": "c0f98f3b",
   "metadata": {},
   "source": [
    "## PAPILA\n",
    "Here, we will repeat the IF computations for the PAPILA dataset."
   ]
  },
  {
   "cell_type": "code",
   "execution_count": 13,
   "id": "982079de",
   "metadata": {},
   "outputs": [],
   "source": [
    "dataset_name = \"PAPILA\"\n",
    "dataset_config = config[dataset_name]\n",
    "train_meta = pd.read_csv(dataset_config['train_meta_path']) \n",
    "val_meta = pd.read_csv(dataset_config['val_meta_path']) \n",
    "test_meta = pd.read_csv(dataset_config['test_meta_path']) "
   ]
  },
  {
   "cell_type": "code",
   "execution_count": 14,
   "id": "a858c117",
   "metadata": {},
   "outputs": [
    {
     "data": {
      "text/plain": [
       "0    228\n",
       "1     68\n",
       "2     44\n",
       "Name: Target, dtype: int64"
      ]
     },
     "execution_count": 14,
     "metadata": {},
     "output_type": "execute_result"
    }
   ],
   "source": [
    "train_meta['Target'].value_counts()"
   ]
  },
  {
   "cell_type": "code",
   "execution_count": 15,
   "id": "2ab3563e",
   "metadata": {},
   "outputs": [
    {
     "name": "stdout",
     "output_type": "stream",
     "text": [
      "228\n",
      "44\n",
      "IF: 5.181818181818182\n"
     ]
    }
   ],
   "source": [
    "major_label_count = train_meta['Target'].value_counts()[0]\n",
    "print(major_label_count)\n",
    "\n",
    "minor_label_count = train_meta['Target'].value_counts()[2]\n",
    "print(minor_label_count)\n",
    "\n",
    "IF = major_label_count / minor_label_count\n",
    "print(\"IF:\", IF)"
   ]
  }
 ],
 "metadata": {
  "kernelspec": {
   "display_name": "Python 3 (ipykernel)",
   "language": "python",
   "name": "python3"
  },
  "language_info": {
   "codemirror_mode": {
    "name": "ipython",
    "version": 3
   },
   "file_extension": ".py",
   "mimetype": "text/x-python",
   "name": "python",
   "nbconvert_exporter": "python",
   "pygments_lexer": "ipython3",
   "version": "3.7.9"
  }
 },
 "nbformat": 4,
 "nbformat_minor": 5
}
